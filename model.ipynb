{
 "cells": [
  {
   "cell_type": "code",
   "execution_count": 60,
   "metadata": {},
   "outputs": [],
   "source": [
    "# Import necessary packages\n",
    "import numpy as np\n",
    "import pandas as pd"
   ]
  },
  {
   "cell_type": "code",
   "execution_count": 61,
   "metadata": {},
   "outputs": [
    {
     "data": {
      "text/html": [
       "<div>\n",
       "<style scoped>\n",
       "    .dataframe tbody tr th:only-of-type {\n",
       "        vertical-align: middle;\n",
       "    }\n",
       "\n",
       "    .dataframe tbody tr th {\n",
       "        vertical-align: top;\n",
       "    }\n",
       "\n",
       "    .dataframe thead th {\n",
       "        text-align: right;\n",
       "    }\n",
       "</style>\n",
       "<table border=\"1\" class=\"dataframe\">\n",
       "  <thead>\n",
       "    <tr style=\"text-align: right;\">\n",
       "      <th></th>\n",
       "      <th>area_type</th>\n",
       "      <th>availability</th>\n",
       "      <th>location</th>\n",
       "      <th>size</th>\n",
       "      <th>society</th>\n",
       "      <th>total_sqft</th>\n",
       "      <th>bath</th>\n",
       "      <th>balcony</th>\n",
       "      <th>price</th>\n",
       "    </tr>\n",
       "  </thead>\n",
       "  <tbody>\n",
       "    <tr>\n",
       "      <th>0</th>\n",
       "      <td>Super built-up  Area</td>\n",
       "      <td>19-Dec</td>\n",
       "      <td>Electronic City Phase II</td>\n",
       "      <td>2 BHK</td>\n",
       "      <td>Coomee</td>\n",
       "      <td>1056</td>\n",
       "      <td>2.0</td>\n",
       "      <td>1.0</td>\n",
       "      <td>39.07</td>\n",
       "    </tr>\n",
       "    <tr>\n",
       "      <th>1</th>\n",
       "      <td>Plot  Area</td>\n",
       "      <td>Ready To Move</td>\n",
       "      <td>Chikka Tirupathi</td>\n",
       "      <td>4 Bedroom</td>\n",
       "      <td>Theanmp</td>\n",
       "      <td>2600</td>\n",
       "      <td>5.0</td>\n",
       "      <td>3.0</td>\n",
       "      <td>120.00</td>\n",
       "    </tr>\n",
       "    <tr>\n",
       "      <th>2</th>\n",
       "      <td>Built-up  Area</td>\n",
       "      <td>Ready To Move</td>\n",
       "      <td>Uttarahalli</td>\n",
       "      <td>3 BHK</td>\n",
       "      <td>NaN</td>\n",
       "      <td>1440</td>\n",
       "      <td>2.0</td>\n",
       "      <td>3.0</td>\n",
       "      <td>62.00</td>\n",
       "    </tr>\n",
       "    <tr>\n",
       "      <th>3</th>\n",
       "      <td>Super built-up  Area</td>\n",
       "      <td>Ready To Move</td>\n",
       "      <td>Lingadheeranahalli</td>\n",
       "      <td>3 BHK</td>\n",
       "      <td>Soiewre</td>\n",
       "      <td>1521</td>\n",
       "      <td>3.0</td>\n",
       "      <td>1.0</td>\n",
       "      <td>95.00</td>\n",
       "    </tr>\n",
       "    <tr>\n",
       "      <th>4</th>\n",
       "      <td>Super built-up  Area</td>\n",
       "      <td>Ready To Move</td>\n",
       "      <td>Kothanur</td>\n",
       "      <td>2 BHK</td>\n",
       "      <td>NaN</td>\n",
       "      <td>1200</td>\n",
       "      <td>2.0</td>\n",
       "      <td>1.0</td>\n",
       "      <td>51.00</td>\n",
       "    </tr>\n",
       "  </tbody>\n",
       "</table>\n",
       "</div>"
      ],
      "text/plain": [
       "              area_type   availability                  location       size  \\\n",
       "0  Super built-up  Area         19-Dec  Electronic City Phase II      2 BHK   \n",
       "1            Plot  Area  Ready To Move          Chikka Tirupathi  4 Bedroom   \n",
       "2        Built-up  Area  Ready To Move               Uttarahalli      3 BHK   \n",
       "3  Super built-up  Area  Ready To Move        Lingadheeranahalli      3 BHK   \n",
       "4  Super built-up  Area  Ready To Move                  Kothanur      2 BHK   \n",
       "\n",
       "   society total_sqft  bath  balcony   price  \n",
       "0  Coomee        1056   2.0      1.0   39.07  \n",
       "1  Theanmp       2600   5.0      3.0  120.00  \n",
       "2      NaN       1440   2.0      3.0   62.00  \n",
       "3  Soiewre       1521   3.0      1.0   95.00  \n",
       "4      NaN       1200   2.0      1.0   51.00  "
      ]
     },
     "execution_count": 61,
     "metadata": {},
     "output_type": "execute_result"
    }
   ],
   "source": [
    "# Load the data\n",
    "dataframe = pd.read_csv('Bengaluru_House_Data.csv')\n",
    "dataframe.head()"
   ]
  },
  {
   "cell_type": "code",
   "execution_count": 62,
   "metadata": {},
   "outputs": [
    {
     "name": "stdout",
     "output_type": "stream",
     "text": [
      "<class 'pandas.core.frame.DataFrame'>\n",
      "RangeIndex: 13320 entries, 0 to 13319\n",
      "Data columns (total 9 columns):\n",
      " #   Column        Non-Null Count  Dtype  \n",
      "---  ------        --------------  -----  \n",
      " 0   area_type     13320 non-null  object \n",
      " 1   availability  13320 non-null  object \n",
      " 2   location      13319 non-null  object \n",
      " 3   size          13304 non-null  object \n",
      " 4   society       7818 non-null   object \n",
      " 5   total_sqft    13320 non-null  object \n",
      " 6   bath          13247 non-null  float64\n",
      " 7   balcony       12711 non-null  float64\n",
      " 8   price         13320 non-null  float64\n",
      "dtypes: float64(3), object(6)\n",
      "memory usage: 936.7+ KB\n"
     ]
    },
    {
     "data": {
      "text/plain": [
       "area_type          0\n",
       "availability       0\n",
       "location           1\n",
       "size              16\n",
       "society         5502\n",
       "total_sqft         0\n",
       "bath              73\n",
       "balcony          609\n",
       "price              0\n",
       "dtype: int64"
      ]
     },
     "execution_count": 62,
     "metadata": {},
     "output_type": "execute_result"
    }
   ],
   "source": [
    "# Analyze the data\n",
    "dataframe.info()\n",
    "\n",
    "# Check for missing values\n",
    "dataframe.isnull().sum()"
   ]
  },
  {
   "cell_type": "code",
   "execution_count": 63,
   "metadata": {},
   "outputs": [
    {
     "name": "stdout",
     "output_type": "stream",
     "text": [
      "area_type\n",
      "Super built-up  Area    8790\n",
      "Built-up  Area          2418\n",
      "Plot  Area              2025\n",
      "Carpet  Area              87\n",
      "Name: count, dtype: int64\n",
      "4\n",
      "location\n",
      "Whitefield                        540\n",
      "Sarjapur  Road                    399\n",
      "Electronic City                   302\n",
      "Kanakpura Road                    273\n",
      "Thanisandra                       234\n",
      "                                 ... \n",
      "Bapuji Layout                       1\n",
      "1st Stage Radha Krishna Layout      1\n",
      "BEML Layout 5th stage               1\n",
      "singapura paradise                  1\n",
      "Abshot Layout                       1\n",
      "Name: count, Length: 1305, dtype: int64\n",
      "1306\n"
     ]
    }
   ],
   "source": [
    "# Check different values in the area_type column\n",
    "print(dataframe['area_type'].value_counts())\n",
    "print(len(dataframe['area_type'].unique()))\n",
    "\n",
    "# Check different values in the location column\n",
    "print(dataframe['location'].value_counts())\n",
    "print(len(dataframe['location'].unique()))\n"
   ]
  },
  {
   "cell_type": "code",
   "execution_count": 64,
   "metadata": {},
   "outputs": [],
   "source": [
    "# Drop unnecessary columns\n",
    "dataframe = dataframe.drop(['availability', 'society'], axis=1)"
   ]
  },
  {
   "cell_type": "code",
   "execution_count": 65,
   "metadata": {},
   "outputs": [
    {
     "data": {
      "text/html": [
       "<div>\n",
       "<style scoped>\n",
       "    .dataframe tbody tr th:only-of-type {\n",
       "        vertical-align: middle;\n",
       "    }\n",
       "\n",
       "    .dataframe tbody tr th {\n",
       "        vertical-align: top;\n",
       "    }\n",
       "\n",
       "    .dataframe thead th {\n",
       "        text-align: right;\n",
       "    }\n",
       "</style>\n",
       "<table border=\"1\" class=\"dataframe\">\n",
       "  <thead>\n",
       "    <tr style=\"text-align: right;\">\n",
       "      <th></th>\n",
       "      <th>area_type</th>\n",
       "      <th>location</th>\n",
       "      <th>size</th>\n",
       "      <th>total_sqft</th>\n",
       "      <th>bath</th>\n",
       "      <th>balcony</th>\n",
       "      <th>price</th>\n",
       "    </tr>\n",
       "  </thead>\n",
       "  <tbody>\n",
       "    <tr>\n",
       "      <th>0</th>\n",
       "      <td>Super built-up  Area</td>\n",
       "      <td>Electronic City Phase II</td>\n",
       "      <td>2 BHK</td>\n",
       "      <td>1056</td>\n",
       "      <td>2.0</td>\n",
       "      <td>1.0</td>\n",
       "      <td>39.07</td>\n",
       "    </tr>\n",
       "    <tr>\n",
       "      <th>1</th>\n",
       "      <td>Plot  Area</td>\n",
       "      <td>Chikka Tirupathi</td>\n",
       "      <td>4 Bedroom</td>\n",
       "      <td>2600</td>\n",
       "      <td>5.0</td>\n",
       "      <td>3.0</td>\n",
       "      <td>120.00</td>\n",
       "    </tr>\n",
       "    <tr>\n",
       "      <th>2</th>\n",
       "      <td>Built-up  Area</td>\n",
       "      <td>Uttarahalli</td>\n",
       "      <td>3 BHK</td>\n",
       "      <td>1440</td>\n",
       "      <td>2.0</td>\n",
       "      <td>3.0</td>\n",
       "      <td>62.00</td>\n",
       "    </tr>\n",
       "    <tr>\n",
       "      <th>3</th>\n",
       "      <td>Super built-up  Area</td>\n",
       "      <td>Lingadheeranahalli</td>\n",
       "      <td>3 BHK</td>\n",
       "      <td>1521</td>\n",
       "      <td>3.0</td>\n",
       "      <td>1.0</td>\n",
       "      <td>95.00</td>\n",
       "    </tr>\n",
       "    <tr>\n",
       "      <th>4</th>\n",
       "      <td>Super built-up  Area</td>\n",
       "      <td>Kothanur</td>\n",
       "      <td>2 BHK</td>\n",
       "      <td>1200</td>\n",
       "      <td>2.0</td>\n",
       "      <td>1.0</td>\n",
       "      <td>51.00</td>\n",
       "    </tr>\n",
       "  </tbody>\n",
       "</table>\n",
       "</div>"
      ],
      "text/plain": [
       "              area_type                  location       size total_sqft  bath  \\\n",
       "0  Super built-up  Area  Electronic City Phase II      2 BHK       1056   2.0   \n",
       "1            Plot  Area          Chikka Tirupathi  4 Bedroom       2600   5.0   \n",
       "2        Built-up  Area               Uttarahalli      3 BHK       1440   2.0   \n",
       "3  Super built-up  Area        Lingadheeranahalli      3 BHK       1521   3.0   \n",
       "4  Super built-up  Area                  Kothanur      2 BHK       1200   2.0   \n",
       "\n",
       "   balcony   price  \n",
       "0      1.0   39.07  \n",
       "1      3.0  120.00  \n",
       "2      3.0   62.00  \n",
       "3      1.0   95.00  \n",
       "4      1.0   51.00  "
      ]
     },
     "execution_count": 65,
     "metadata": {},
     "output_type": "execute_result"
    }
   ],
   "source": [
    "dataframe.head()"
   ]
  },
  {
   "cell_type": "code",
   "execution_count": 66,
   "metadata": {},
   "outputs": [],
   "source": [
    "# Remove the rows that does not have 'size' value\n",
    "dataframe = dataframe.dropna(subset=['size'])"
   ]
  },
  {
   "cell_type": "code",
   "execution_count": 67,
   "metadata": {},
   "outputs": [
    {
     "data": {
      "text/plain": [
       "area_type       0\n",
       "location        1\n",
       "size            0\n",
       "total_sqft      0\n",
       "bath           57\n",
       "balcony       593\n",
       "price           0\n",
       "dtype: int64"
      ]
     },
     "execution_count": 67,
     "metadata": {},
     "output_type": "execute_result"
    }
   ],
   "source": [
    "dataframe.isnull().sum()"
   ]
  },
  {
   "cell_type": "code",
   "execution_count": 68,
   "metadata": {},
   "outputs": [
    {
     "name": "stdout",
     "output_type": "stream",
     "text": [
      "['2 BHK' '4 Bedroom' '3 BHK' '4 BHK' '6 Bedroom' '3 Bedroom' '1 BHK'\n",
      " '1 RK' '1 Bedroom' '8 Bedroom' '2 Bedroom' '7 Bedroom' '5 BHK' '7 BHK'\n",
      " '6 BHK' '5 Bedroom' '11 BHK' '9 BHK' '9 Bedroom' '27 BHK' '10 Bedroom'\n",
      " '11 Bedroom' '10 BHK' '19 BHK' '16 BHK' '43 Bedroom' '14 BHK' '8 BHK'\n",
      " '12 Bedroom' '13 BHK' '18 Bedroom']\n"
     ]
    }
   ],
   "source": [
    "# Check unique values in the size column\n",
    "print(dataframe['size'].unique())"
   ]
  },
  {
   "cell_type": "code",
   "execution_count": 69,
   "metadata": {},
   "outputs": [
    {
     "data": {
      "text/html": [
       "<div>\n",
       "<style scoped>\n",
       "    .dataframe tbody tr th:only-of-type {\n",
       "        vertical-align: middle;\n",
       "    }\n",
       "\n",
       "    .dataframe tbody tr th {\n",
       "        vertical-align: top;\n",
       "    }\n",
       "\n",
       "    .dataframe thead th {\n",
       "        text-align: right;\n",
       "    }\n",
       "</style>\n",
       "<table border=\"1\" class=\"dataframe\">\n",
       "  <thead>\n",
       "    <tr style=\"text-align: right;\">\n",
       "      <th></th>\n",
       "      <th>area_type</th>\n",
       "      <th>location</th>\n",
       "      <th>bhk</th>\n",
       "      <th>total_sqft</th>\n",
       "      <th>bath</th>\n",
       "      <th>balcony</th>\n",
       "      <th>price</th>\n",
       "    </tr>\n",
       "  </thead>\n",
       "  <tbody>\n",
       "    <tr>\n",
       "      <th>0</th>\n",
       "      <td>Super built-up  Area</td>\n",
       "      <td>Electronic City Phase II</td>\n",
       "      <td>2</td>\n",
       "      <td>1056</td>\n",
       "      <td>2.0</td>\n",
       "      <td>1.0</td>\n",
       "      <td>39.07</td>\n",
       "    </tr>\n",
       "    <tr>\n",
       "      <th>1</th>\n",
       "      <td>Plot  Area</td>\n",
       "      <td>Chikka Tirupathi</td>\n",
       "      <td>4</td>\n",
       "      <td>2600</td>\n",
       "      <td>5.0</td>\n",
       "      <td>3.0</td>\n",
       "      <td>120.00</td>\n",
       "    </tr>\n",
       "    <tr>\n",
       "      <th>2</th>\n",
       "      <td>Built-up  Area</td>\n",
       "      <td>Uttarahalli</td>\n",
       "      <td>3</td>\n",
       "      <td>1440</td>\n",
       "      <td>2.0</td>\n",
       "      <td>3.0</td>\n",
       "      <td>62.00</td>\n",
       "    </tr>\n",
       "    <tr>\n",
       "      <th>3</th>\n",
       "      <td>Super built-up  Area</td>\n",
       "      <td>Lingadheeranahalli</td>\n",
       "      <td>3</td>\n",
       "      <td>1521</td>\n",
       "      <td>3.0</td>\n",
       "      <td>1.0</td>\n",
       "      <td>95.00</td>\n",
       "    </tr>\n",
       "    <tr>\n",
       "      <th>4</th>\n",
       "      <td>Super built-up  Area</td>\n",
       "      <td>Kothanur</td>\n",
       "      <td>2</td>\n",
       "      <td>1200</td>\n",
       "      <td>2.0</td>\n",
       "      <td>1.0</td>\n",
       "      <td>51.00</td>\n",
       "    </tr>\n",
       "  </tbody>\n",
       "</table>\n",
       "</div>"
      ],
      "text/plain": [
       "              area_type                  location  bhk total_sqft  bath  \\\n",
       "0  Super built-up  Area  Electronic City Phase II    2       1056   2.0   \n",
       "1            Plot  Area          Chikka Tirupathi    4       2600   5.0   \n",
       "2        Built-up  Area               Uttarahalli    3       1440   2.0   \n",
       "3  Super built-up  Area        Lingadheeranahalli    3       1521   3.0   \n",
       "4  Super built-up  Area                  Kothanur    2       1200   2.0   \n",
       "\n",
       "   balcony   price  \n",
       "0      1.0   39.07  \n",
       "1      3.0  120.00  \n",
       "2      3.0   62.00  \n",
       "3      1.0   95.00  \n",
       "4      1.0   51.00  "
      ]
     },
     "execution_count": 69,
     "metadata": {},
     "output_type": "execute_result"
    }
   ],
   "source": [
    "# Convert the size column to integer\n",
    "dataframe['size'] = dataframe['size'].apply(lambda x: int(x.split(' ')[0])) # Split the string and take the first element and convert it to integer\n",
    "\n",
    "# Change the name of the column size to bhk\n",
    "dataframe = dataframe.rename(columns={'size': 'bhk'})\n",
    "\n",
    "dataframe.head()"
   ]
  },
  {
   "cell_type": "code",
   "execution_count": 70,
   "metadata": {},
   "outputs": [
    {
     "name": "stdout",
     "output_type": "stream",
     "text": [
      "<class 'pandas.core.frame.DataFrame'>\n",
      "Index: 13304 entries, 0 to 13319\n",
      "Data columns (total 7 columns):\n",
      " #   Column      Non-Null Count  Dtype  \n",
      "---  ------      --------------  -----  \n",
      " 0   area_type   13304 non-null  object \n",
      " 1   location    13303 non-null  object \n",
      " 2   bhk         13304 non-null  int64  \n",
      " 3   total_sqft  13304 non-null  object \n",
      " 4   bath        13304 non-null  int64  \n",
      " 5   balcony     13304 non-null  int64  \n",
      " 6   price       13304 non-null  float64\n",
      "dtypes: float64(1), int64(3), object(3)\n",
      "memory usage: 831.5+ KB\n",
      "None\n",
      "              area_type                  location  bhk total_sqft  bath  \\\n",
      "0  Super built-up  Area  Electronic City Phase II    2       1056     2   \n",
      "1            Plot  Area          Chikka Tirupathi    4       2600     5   \n",
      "2        Built-up  Area               Uttarahalli    3       1440     2   \n",
      "3  Super built-up  Area        Lingadheeranahalli    3       1521     3   \n",
      "4  Super built-up  Area                  Kothanur    2       1200     2   \n",
      "\n",
      "   balcony   price  \n",
      "0        1   39.07  \n",
      "1        3  120.00  \n",
      "2        3   62.00  \n",
      "3        1   95.00  \n",
      "4        1   51.00  \n",
      "area_type     0\n",
      "location      1\n",
      "bhk           0\n",
      "total_sqft    0\n",
      "bath          0\n",
      "balcony       0\n",
      "price         0\n",
      "dtype: int64\n"
     ]
    }
   ],
   "source": [
    "# Convert the null values of 'bath' column equal to the bhk value of that row\n",
    "dataframe['bath'] = dataframe['bath'].fillna(dataframe['bhk'])\n",
    "\n",
    "# Convert the null values of 'balcony' column equal to the median value of that column\n",
    "dataframe['balcony'] = dataframe['balcony'].fillna(dataframe['balcony'].median())\n",
    "\n",
    "# Convert 'bath' and 'balcony' columns to integer\n",
    "dataframe['bath'] = dataframe['bath'].astype(int)\n",
    "dataframe['balcony'] = dataframe['balcony'].astype(int)\n",
    "\n",
    "print(dataframe.info())\n",
    "\n",
    "print(dataframe.head())\n",
    "\n",
    "print(dataframe.isnull().sum())\n",
    "\n"
   ]
  },
  {
   "cell_type": "code",
   "execution_count": 71,
   "metadata": {},
   "outputs": [
    {
     "data": {
      "text/html": [
       "<div>\n",
       "<style scoped>\n",
       "    .dataframe tbody tr th:only-of-type {\n",
       "        vertical-align: middle;\n",
       "    }\n",
       "\n",
       "    .dataframe tbody tr th {\n",
       "        vertical-align: top;\n",
       "    }\n",
       "\n",
       "    .dataframe thead th {\n",
       "        text-align: right;\n",
       "    }\n",
       "</style>\n",
       "<table border=\"1\" class=\"dataframe\">\n",
       "  <thead>\n",
       "    <tr style=\"text-align: right;\">\n",
       "      <th></th>\n",
       "      <th>area_type</th>\n",
       "      <th>location</th>\n",
       "      <th>bhk</th>\n",
       "      <th>total_sqft</th>\n",
       "      <th>bath</th>\n",
       "      <th>balcony</th>\n",
       "      <th>price</th>\n",
       "    </tr>\n",
       "  </thead>\n",
       "  <tbody>\n",
       "    <tr>\n",
       "      <th>30</th>\n",
       "      <td>Super built-up  Area</td>\n",
       "      <td>Yelahanka</td>\n",
       "      <td>4</td>\n",
       "      <td>2100 - 2850</td>\n",
       "      <td>4</td>\n",
       "      <td>0</td>\n",
       "      <td>186.000</td>\n",
       "    </tr>\n",
       "    <tr>\n",
       "      <th>56</th>\n",
       "      <td>Built-up  Area</td>\n",
       "      <td>Devanahalli</td>\n",
       "      <td>4</td>\n",
       "      <td>3010 - 3410</td>\n",
       "      <td>4</td>\n",
       "      <td>2</td>\n",
       "      <td>192.000</td>\n",
       "    </tr>\n",
       "    <tr>\n",
       "      <th>81</th>\n",
       "      <td>Built-up  Area</td>\n",
       "      <td>Hennur Road</td>\n",
       "      <td>4</td>\n",
       "      <td>2957 - 3450</td>\n",
       "      <td>4</td>\n",
       "      <td>2</td>\n",
       "      <td>224.500</td>\n",
       "    </tr>\n",
       "    <tr>\n",
       "      <th>122</th>\n",
       "      <td>Super built-up  Area</td>\n",
       "      <td>Hebbal</td>\n",
       "      <td>4</td>\n",
       "      <td>3067 - 8156</td>\n",
       "      <td>4</td>\n",
       "      <td>0</td>\n",
       "      <td>477.000</td>\n",
       "    </tr>\n",
       "    <tr>\n",
       "      <th>137</th>\n",
       "      <td>Super built-up  Area</td>\n",
       "      <td>8th Phase JP Nagar</td>\n",
       "      <td>2</td>\n",
       "      <td>1042 - 1105</td>\n",
       "      <td>2</td>\n",
       "      <td>0</td>\n",
       "      <td>54.005</td>\n",
       "    </tr>\n",
       "    <tr>\n",
       "      <th>165</th>\n",
       "      <td>Super built-up  Area</td>\n",
       "      <td>Sarjapur</td>\n",
       "      <td>2</td>\n",
       "      <td>1145 - 1340</td>\n",
       "      <td>2</td>\n",
       "      <td>0</td>\n",
       "      <td>43.490</td>\n",
       "    </tr>\n",
       "    <tr>\n",
       "      <th>188</th>\n",
       "      <td>Super built-up  Area</td>\n",
       "      <td>KR Puram</td>\n",
       "      <td>2</td>\n",
       "      <td>1015 - 1540</td>\n",
       "      <td>2</td>\n",
       "      <td>0</td>\n",
       "      <td>56.800</td>\n",
       "    </tr>\n",
       "    <tr>\n",
       "      <th>224</th>\n",
       "      <td>Super built-up  Area</td>\n",
       "      <td>Devanahalli</td>\n",
       "      <td>3</td>\n",
       "      <td>1520 - 1740</td>\n",
       "      <td>3</td>\n",
       "      <td>2</td>\n",
       "      <td>74.820</td>\n",
       "    </tr>\n",
       "    <tr>\n",
       "      <th>410</th>\n",
       "      <td>Super built-up  Area</td>\n",
       "      <td>Kengeri</td>\n",
       "      <td>1</td>\n",
       "      <td>34.46Sq. Meter</td>\n",
       "      <td>1</td>\n",
       "      <td>0</td>\n",
       "      <td>18.500</td>\n",
       "    </tr>\n",
       "    <tr>\n",
       "      <th>549</th>\n",
       "      <td>Super built-up  Area</td>\n",
       "      <td>Hennur Road</td>\n",
       "      <td>2</td>\n",
       "      <td>1195 - 1440</td>\n",
       "      <td>2</td>\n",
       "      <td>0</td>\n",
       "      <td>63.770</td>\n",
       "    </tr>\n",
       "  </tbody>\n",
       "</table>\n",
       "</div>"
      ],
      "text/plain": [
       "                area_type            location  bhk      total_sqft  bath  \\\n",
       "30   Super built-up  Area           Yelahanka    4     2100 - 2850     4   \n",
       "56         Built-up  Area         Devanahalli    4     3010 - 3410     4   \n",
       "81         Built-up  Area         Hennur Road    4     2957 - 3450     4   \n",
       "122  Super built-up  Area              Hebbal    4     3067 - 8156     4   \n",
       "137  Super built-up  Area  8th Phase JP Nagar    2     1042 - 1105     2   \n",
       "165  Super built-up  Area            Sarjapur    2     1145 - 1340     2   \n",
       "188  Super built-up  Area            KR Puram    2     1015 - 1540     2   \n",
       "224  Super built-up  Area         Devanahalli    3     1520 - 1740     3   \n",
       "410  Super built-up  Area             Kengeri    1  34.46Sq. Meter     1   \n",
       "549  Super built-up  Area         Hennur Road    2     1195 - 1440     2   \n",
       "\n",
       "     balcony    price  \n",
       "30         0  186.000  \n",
       "56         2  192.000  \n",
       "81         2  224.500  \n",
       "122        0  477.000  \n",
       "137        0   54.005  \n",
       "165        0   43.490  \n",
       "188        0   56.800  \n",
       "224        2   74.820  \n",
       "410        0   18.500  \n",
       "549        0   63.770  "
      ]
     },
     "execution_count": 71,
     "metadata": {},
     "output_type": "execute_result"
    }
   ],
   "source": [
    "# Check the 'total_sqft' column values that is not in float\n",
    "def is_float(x):\n",
    "    try:\n",
    "        float(x)\n",
    "    except:\n",
    "        return False\n",
    "    return True\n",
    "\n",
    "dataframe[~dataframe['total_sqft'].apply(is_float)].head(10) # Display the rows that are not in float"
   ]
  },
  {
   "cell_type": "code",
   "execution_count": 72,
   "metadata": {},
   "outputs": [],
   "source": [
    "# Convert the range values to float\n",
    "def convert_sqft_to_num(x):\n",
    "    tokens = x.split('-')\n",
    "    if len(tokens) == 2:\n",
    "        return (float(tokens[0]) + float(tokens[1])) / 2\n",
    "    try:\n",
    "        return float(x)\n",
    "    except:\n",
    "        return None\n",
    "    \n",
    "dataframe['total_sqft'] = dataframe['total_sqft'].apply(convert_sqft_to_num)  \n",
    "\n"
   ]
  },
  {
   "cell_type": "code",
   "execution_count": 73,
   "metadata": {},
   "outputs": [],
   "source": [
    "# Drop the rows that have null values in the total_sqft column\n",
    "dataframe = dataframe.dropna(subset=['total_sqft'])"
   ]
  },
  {
   "cell_type": "code",
   "execution_count": 74,
   "metadata": {},
   "outputs": [
    {
     "name": "stdout",
     "output_type": "stream",
     "text": [
      "area_type     0\n",
      "location      1\n",
      "bhk           0\n",
      "total_sqft    0\n",
      "bath          0\n",
      "balcony       0\n",
      "price         0\n",
      "dtype: int64\n",
      "<class 'pandas.core.frame.DataFrame'>\n",
      "Index: 13258 entries, 0 to 13319\n",
      "Data columns (total 7 columns):\n",
      " #   Column      Non-Null Count  Dtype  \n",
      "---  ------      --------------  -----  \n",
      " 0   area_type   13258 non-null  object \n",
      " 1   location    13257 non-null  object \n",
      " 2   bhk         13258 non-null  int64  \n",
      " 3   total_sqft  13258 non-null  float64\n",
      " 4   bath        13258 non-null  int64  \n",
      " 5   balcony     13258 non-null  int64  \n",
      " 6   price       13258 non-null  float64\n",
      "dtypes: float64(2), int64(3), object(2)\n",
      "memory usage: 828.6+ KB\n",
      "None\n"
     ]
    }
   ],
   "source": [
    "print(dataframe.isnull().sum())\n",
    "\n",
    "print(dataframe.info())"
   ]
  },
  {
   "cell_type": "markdown",
   "metadata": {},
   "source": [
    "# Outlier Detection and Removal"
   ]
  },
  {
   "cell_type": "code",
   "execution_count": 75,
   "metadata": {},
   "outputs": [
    {
     "data": {
      "image/png": "[encoded data removed]",
      "text/plain": [
       "<Figure size 640x480 with 1 Axes>"
      ]
     },
     "metadata": {},
     "output_type": "display_data"
    },
    {
     "data": {
      "image/png": "[encoded data removed]",
      "text/plain": [
       "<Figure size 640x480 with 1 Axes>"
      ]
     },
     "metadata": {},
     "output_type": "display_data"
    },
    {
     "data": {
      "image/png": "[encoded data removed]",
      "text/plain": [
       "<Figure size 640x480 with 1 Axes>"
      ]
     },
     "metadata": {},
     "output_type": "display_data"
    },
    {
     "data": {
      "text/plain": [
       "<Axes: xlabel='balcony'>"
      ]
     },
     "execution_count": 75,
     "metadata": {},
     "output_type": "execute_result"
    },
    {
     "data": {
      "image/png": "[encoded data removed]",
      "text/plain": [
       "<Figure size 640x480 with 1 Axes>"
      ]
     },
     "metadata": {},
     "output_type": "display_data"
    }
   ],
   "source": [
    "import matplotlib.pyplot as plt\n",
    "import seaborn as sns\n",
    "\n",
    "# Plot the boxplot of the 'total_sqft' column\n",
    "sns.boxplot(x='total_sqft', data=dataframe)\n",
    "plt.show()\n",
    "\n",
    "# Plot the boxplot of the 'bhk' column\n",
    "sns.boxplot(x='bhk', data=dataframe)\n",
    "plt.show()\n",
    "\n",
    "# Plot the boxplot of the 'bath' column\n",
    "sns.boxplot(x='bath', data=dataframe)\n",
    "plt.show()\n",
    "\n",
    "# Plot the boxplot of the 'balcony' column\n",
    "sns.boxplot(x='balcony', data=dataframe)\n"
   ]
  },
  {
   "cell_type": "code",
   "execution_count": 76,
   "metadata": {},
   "outputs": [
    {
     "data": {
      "text/plain": [
       "count    13258.000000\n",
       "mean      1558.812282\n",
       "std       1238.432276\n",
       "min          1.000000\n",
       "25%       1100.000000\n",
       "50%       1275.000000\n",
       "75%       1680.000000\n",
       "max      52272.000000\n",
       "Name: total_sqft, dtype: float64"
      ]
     },
     "execution_count": 76,
     "metadata": {},
     "output_type": "execute_result"
    }
   ],
   "source": [
    "dataframe['total_sqft'].describe()"
   ]
  },
  {
   "cell_type": "code",
   "execution_count": 77,
   "metadata": {},
   "outputs": [
    {
     "name": "stdout",
     "output_type": "stream",
     "text": [
      "Max threshold: 11971.730000000243\n",
      "Min threshold: 670.0\n"
     ]
    },
    {
     "data": {
      "image/png": "[encoded data removed]",
      "text/plain": [
       "<Figure size 640x480 with 1 Axes>"
      ]
     },
     "metadata": {},
     "output_type": "display_data"
    }
   ],
   "source": [
    "# Remove outliers from the 'total_sqft' column using percentile-based method\n",
    "\n",
    "max_threshold = dataframe['total_sqft'].quantile(0.999)\n",
    "print(f\"Max threshold: {max_threshold}\")\n",
    "\n",
    "min_threshold = dataframe['total_sqft'].quantile(0.05)\n",
    "print(f\"Min threshold: {min_threshold}\")\n",
    "\n",
    "# print(dataframe[dataframe['total_sqft'] > max_threshold])\n",
    "# print(dataframe[dataframe['total_sqft'] < min_threshold])   \n",
    "\n",
    "\n",
    "# Remove outliers from the 'total_sqft' column\n",
    "dataframe = dataframe[(dataframe['total_sqft'] < max_threshold) & (dataframe['total_sqft'] > min_threshold)]\n",
    "\n",
    "sns.boxplot(x='total_sqft', data=dataframe)\n",
    "plt.show()"
   ]
  },
  {
   "cell_type": "code",
   "execution_count": 78,
   "metadata": {},
   "outputs": [
    {
     "name": "stdout",
     "output_type": "stream",
     "text": [
      "Max threshold bhk: 10.0\n"
     ]
    },
    {
     "data": {
      "text/plain": [
       "<Axes: xlabel='bhk'>"
      ]
     },
     "execution_count": 78,
     "metadata": {},
     "output_type": "execute_result"
    },
    {
     "data": {
      "image/png": "[encoded data removed]",
      "text/plain": [
       "<Figure size 640x480 with 1 Axes>"
      ]
     },
     "metadata": {},
     "output_type": "display_data"
    }
   ],
   "source": [
    "# Remove outliers from the 'bhk' column using percentile-based method\n",
    "\n",
    "max_threshold = dataframe['bhk'].quantile(0.999)\n",
    "print(f\"Max threshold bhk: {max_threshold}\")\n",
    "\n",
    "dataframe = dataframe[dataframe['bhk'] < max_threshold]\n",
    "\n",
    "sns.boxplot(x='bhk', data=dataframe)\n",
    "\n"
   ]
  },
  {
   "cell_type": "code",
   "execution_count": 79,
   "metadata": {},
   "outputs": [
    {
     "name": "stdout",
     "output_type": "stream",
     "text": [
      "Max threshold bath: 10.0\n"
     ]
    },
    {
     "data": {
      "text/plain": [
       "<Axes: xlabel='bath'>"
      ]
     },
     "execution_count": 79,
     "metadata": {},
     "output_type": "execute_result"
    },
    {
     "data": {
      "image/png": "[encoded data removed]",
      "text/plain": [
       "<Figure size 640x480 with 1 Axes>"
      ]
     },
     "metadata": {},
     "output_type": "display_data"
    }
   ],
   "source": [
    "# Remove outliers from the 'bath' column using percentile-based method\n",
    "\n",
    "max_threshold = dataframe['bath'].quantile(0.999)\n",
    "print(f\"Max threshold bath: {max_threshold}\")\n",
    "\n",
    "dataframe = dataframe[dataframe['bath'] < max_threshold]\n",
    "\n",
    "sns.boxplot(x='bath', data=dataframe)\n"
   ]
  },
  {
   "cell_type": "code",
   "execution_count": 80,
   "metadata": {},
   "outputs": [
    {
     "name": "stdout",
     "output_type": "stream",
     "text": [
      "<class 'pandas.core.frame.DataFrame'>\n",
      "Index: 12541 entries, 0 to 13318\n",
      "Data columns (total 7 columns):\n",
      " #   Column      Non-Null Count  Dtype  \n",
      "---  ------      --------------  -----  \n",
      " 0   area_type   12541 non-null  object \n",
      " 1   location    12540 non-null  object \n",
      " 2   bhk         12541 non-null  int64  \n",
      " 3   total_sqft  12541 non-null  float64\n",
      " 4   bath        12541 non-null  int64  \n",
      " 5   balcony     12541 non-null  int64  \n",
      " 6   price       12541 non-null  float64\n",
      "dtypes: float64(2), int64(3), object(2)\n",
      "memory usage: 783.8+ KB\n"
     ]
    }
   ],
   "source": [
    "dataframe.info()"
   ]
  },
  {
   "cell_type": "code",
   "execution_count": 81,
   "metadata": {},
   "outputs": [
    {
     "data": {
      "image/png": "[encoded data removed]",
      "text/plain": [
       "<Figure size 640x480 with 1 Axes>"
      ]
     },
     "metadata": {},
     "output_type": "display_data"
    },
    {
     "data": {
      "image/png": "[encoded data removed]",
      "text/plain": [
       "<Figure size 640x480 with 1 Axes>"
      ]
     },
     "metadata": {},
     "output_type": "display_data"
    },
    {
     "data": {
      "image/png": "[encoded data removed]",
      "text/plain": [
       "<Figure size 640x480 with 1 Axes>"
      ]
     },
     "metadata": {},
     "output_type": "display_data"
    }
   ],
   "source": [
    "# Draw scatter plot of 'total_sqft' and 'price' columns\n",
    "sns.scatterplot(x='total_sqft', y='price', data=dataframe)\n",
    "plt.show()\n",
    "\n",
    "# Draw scatter plot of 'bhk' and 'price' columns\n",
    "sns.scatterplot(x='price', y='bhk', data=dataframe)\n",
    "plt.show()\n",
    "\n",
    "# Draw scatter plot of 'bhk' and 'total_sqft' columns\n",
    "sns.scatterplot(x='bhk', y='total_sqft', data=dataframe)\n",
    "plt.show()\n"
   ]
  },
  {
   "cell_type": "code",
   "execution_count": 82,
   "metadata": {},
   "outputs": [
    {
     "data": {
      "text/plain": [
       "<Axes: xlabel='bhk', ylabel='total_sqft'>"
      ]
     },
     "execution_count": 82,
     "metadata": {},
     "output_type": "execute_result"
    },
    {
     "data": {
      "image/png": "[encoded data removed]",
      "text/plain": [
       "<Figure size 640x480 with 1 Axes>"
      ]
     },
     "metadata": {},
     "output_type": "display_data"
    }
   ],
   "source": [
    "# Remove the outliers that doesnt make sense in 'total_sqft' and 'bhk' columns\n",
    "\n",
    "dataframe = dataframe[(dataframe['total_sqft'] / dataframe['bhk']) > 300]\n",
    "\n",
    "sns.scatterplot(x='bhk', y='total_sqft', data=dataframe)"
   ]
  },
  {
   "cell_type": "code",
   "execution_count": 83,
   "metadata": {},
   "outputs": [
    {
     "data": {
      "text/plain": [
       "<Axes: xlabel='bhk', ylabel='total_sqft'>"
      ]
     },
     "execution_count": 83,
     "metadata": {},
     "output_type": "execute_result"
    },
    {
     "data": {
      "image/png": "[encoded data removed]",
      "text/plain": [
       "<Figure size 640x480 with 1 Axes>"
      ]
     },
     "metadata": {},
     "output_type": "display_data"
    }
   ],
   "source": [
    "dataframe = dataframe[(dataframe['total_sqft'] / dataframe['bhk']) < 1000]\n",
    "\n",
    "sns.scatterplot(x='bhk', y='total_sqft', data=dataframe)"
   ]
  },
  {
   "cell_type": "code",
   "execution_count": 84,
   "metadata": {},
   "outputs": [
    {
     "name": "stdout",
     "output_type": "stream",
     "text": [
      "<class 'pandas.core.frame.DataFrame'>\n",
      "Index: 11436 entries, 0 to 13317\n",
      "Data columns (total 7 columns):\n",
      " #   Column      Non-Null Count  Dtype  \n",
      "---  ------      --------------  -----  \n",
      " 0   area_type   11436 non-null  object \n",
      " 1   location    11435 non-null  object \n",
      " 2   bhk         11436 non-null  int64  \n",
      " 3   total_sqft  11436 non-null  float64\n",
      " 4   bath        11436 non-null  int64  \n",
      " 5   balcony     11436 non-null  int64  \n",
      " 6   price       11436 non-null  float64\n",
      "dtypes: float64(2), int64(3), object(2)\n",
      "memory usage: 714.8+ KB\n"
     ]
    }
   ],
   "source": [
    "dataframe.info()"
   ]
  },
  {
   "cell_type": "markdown",
   "metadata": {},
   "source": [
    "# One hot encoding"
   ]
  },
  {
   "cell_type": "code",
   "execution_count": 85,
   "metadata": {},
   "outputs": [
    {
     "name": "stdout",
     "output_type": "stream",
     "text": [
      "   Built-up  Area  Carpet  Area  Plot  Area  Super built-up  Area\n",
      "0               0             0           0                     1\n",
      "1               0             0           1                     0\n",
      "2               1             0           0                     0\n",
      "3               0             0           0                     1\n",
      "4               0             0           0                     1\n",
      "                   location  bhk  total_sqft  bath  balcony   price  \\\n",
      "0  Electronic City Phase II    2      1056.0     2        1   39.07   \n",
      "1          Chikka Tirupathi    4      2600.0     5        3  120.00   \n",
      "2               Uttarahalli    3      1440.0     2        3   62.00   \n",
      "3        Lingadheeranahalli    3      1521.0     3        1   95.00   \n",
      "4                  Kothanur    2      1200.0     2        1   51.00   \n",
      "\n",
      "   Built-up  Area  Carpet  Area  Plot  Area  Super built-up  Area  \n",
      "0               0             0           0                     1  \n",
      "1               0             0           1                     0  \n",
      "2               1             0           0                     0  \n",
      "3               0             0           0                     1  \n",
      "4               0             0           0                     1  \n"
     ]
    }
   ],
   "source": [
    "# Do one-hot encoding on the 'area_type' column\n",
    "test = pd.get_dummies(dataframe['area_type'], dtype=int)\n",
    "print(test.head())\n",
    "\n",
    "dataframe = pd.concat([dataframe, test], axis=1)\n",
    "dataframe = dataframe.drop('area_type', axis=1)\n",
    "\n",
    "print(dataframe.head())\n"
   ]
  },
  {
   "cell_type": "code",
   "execution_count": 86,
   "metadata": {},
   "outputs": [
    {
     "name": "stdout",
     "output_type": "stream",
     "text": [
      "location\n",
      "Whitefield               482\n",
      "Sarjapur  Road           369\n",
      "Electronic City          264\n",
      "Kanakpura Road           244\n",
      "Thanisandra              223\n",
      "                        ... \n",
      "BEML Layout 5th stage      1\n",
      "Kannur                     1\n",
      "Gattigere                  1\n",
      "Panduranga Nagar           1\n",
      "Annaiah Reddy Layout       1\n",
      "Name: count, Length: 1116, dtype: int64\n"
     ]
    }
   ],
   "source": [
    "# Apply dimensionality reduction on the 'location' column\n",
    "\n",
    "dataframe.location = dataframe.location.astype(str).apply(lambda x: x.strip()) # Remove the leading and trailing spaces\n",
    "location_stats = dataframe['location'].value_counts(ascending=False)\n",
    "print(location_stats)\n",
    "\n",
    "location_stats_less_than_10 = location_stats[location_stats<=10]\n",
    "location_stats_less_than_10\n",
    "\n",
    "dataframe.location = dataframe.location.apply(lambda x: 'other' if x in location_stats_less_than_10 else x)"
   ]
  },
  {
   "cell_type": "code",
   "execution_count": 87,
   "metadata": {},
   "outputs": [],
   "source": [
    "# Normalize the 'total_sqft' column\n",
    "dataframe['total_sqft'] = (dataframe['total_sqft'] - dataframe['total_sqft'].mean()) / dataframe['total_sqft'].std()"
   ]
  },
  {
   "cell_type": "code",
   "execution_count": 88,
   "metadata": {},
   "outputs": [],
   "source": [
    "dummies = pd.get_dummies(dataframe.location)\n",
    "dataframe = pd.concat([dataframe,dummies.drop('other',axis='columns')],axis='columns')\n",
    "dataframe = dataframe.drop('location', axis = 1)"
   ]
  },
  {
   "cell_type": "markdown",
   "metadata": {},
   "source": [
    "# Model building"
   ]
  },
  {
   "cell_type": "code",
   "execution_count": 89,
   "metadata": {},
   "outputs": [
    {
     "name": "stdout",
     "output_type": "stream",
     "text": [
      "   bhk  total_sqft  bath  balcony  Built-up  Area  Carpet  Area  Plot  Area  \\\n",
      "0    2   -0.730660     2        1               0             0           0   \n",
      "1    4    1.785547     5        3               0             0           1   \n",
      "2    3   -0.104868     2        3               1             0           0   \n",
      "3    3    0.027135     3        1               0             0           0   \n",
      "4    2   -0.495988     2        1               0             0           0   \n",
      "\n",
      "   Super built-up  Area  1st Phase JP Nagar  5th Phase JP Nagar  ...  \\\n",
      "0                     1               False               False  ...   \n",
      "1                     0               False               False  ...   \n",
      "2                     0               False               False  ...   \n",
      "3                     1               False               False  ...   \n",
      "4                     1               False               False  ...   \n",
      "\n",
      "   Vasanthapura  Vidyaranyapura  Vijayanagar  Vittasandra  Whitefield  \\\n",
      "0         False           False        False        False       False   \n",
      "1         False           False        False        False       False   \n",
      "2         False           False        False        False       False   \n",
      "3         False           False        False        False       False   \n",
      "4         False           False        False        False       False   \n",
      "\n",
      "   Yelachenahalli  Yelahanka  Yelahanka New Town  Yelenahalli  Yeshwanthpur  \n",
      "0           False      False               False        False         False  \n",
      "1           False      False               False        False         False  \n",
      "2           False      False               False        False         False  \n",
      "3           False      False               False        False         False  \n",
      "4           False      False               False        False         False  \n",
      "\n",
      "[5 rows x 219 columns]\n",
      "0     39.07\n",
      "1    120.00\n",
      "2     62.00\n",
      "3     95.00\n",
      "4     51.00\n",
      "Name: price, dtype: float64\n"
     ]
    }
   ],
   "source": [
    "X = dataframe.drop('price', axis=1)\n",
    "y = dataframe['price']\n",
    "\n",
    "print(X.head())\n",
    "print(y.head())"
   ]
  },
  {
   "cell_type": "code",
   "execution_count": 90,
   "metadata": {},
   "outputs": [],
   "source": [
    "# Split the data into training and testing sets\n",
    "from sklearn.model_selection import train_test_split\n",
    "\n",
    "X_train, X_test, y_train, y_test = train_test_split(X, y, test_size=0.2, random_state=0)"
   ]
  },
  {
   "cell_type": "code",
   "execution_count": 91,
   "metadata": {},
   "outputs": [
    {
     "data": {
      "text/plain": [
       "0.6223427968169518"
      ]
     },
     "execution_count": 91,
     "metadata": {},
     "output_type": "execute_result"
    }
   ],
   "source": [
    "# Train the model using Linear Regression\n",
    "from sklearn.linear_model import LinearRegression\n",
    "\n",
    "LinearRegression_model = LinearRegression()\n",
    "LinearRegression_model.fit(X_train, y_train)\n",
    "\n",
    "LinearRegression_model.score(X_test, y_test)"
   ]
  },
  {
   "cell_type": "code",
   "execution_count": 92,
   "metadata": {},
   "outputs": [
    {
     "data": {
      "text/plain": [
       "array([0.6223428 , 0.61552309, 0.67502998, 0.51790582, 0.65244683])"
      ]
     },
     "execution_count": 92,
     "metadata": {},
     "output_type": "execute_result"
    }
   ],
   "source": [
    "from sklearn.model_selection import cross_val_score\n",
    "from sklearn.model_selection import ShuffleSplit\n",
    "\n",
    "cv = ShuffleSplit(n_splits=5, test_size=0.2, random_state=0)\n",
    "\n",
    "cross_val_score(LinearRegression(), X, y, cv=cv)"
   ]
  },
  {
   "cell_type": "code",
   "execution_count": 93,
   "metadata": {},
   "outputs": [],
   "source": [
    "# Compare different models\n",
    "# from sklearn.model_selection import GridSearchCV\n",
    "# from sklearn.linear_model import Lasso\n",
    "# from sklearn.tree import DecisionTreeRegressor\n",
    "# from sklearn.ensemble import RandomForestRegressor\n",
    "\n",
    "# def find_best_model_using_gridsearchcv(X, y):\n",
    "#     algos = {\n",
    "#         'linear_regression': {\n",
    "#             'model': LinearRegression(),\n",
    "#             'params': {\n",
    "#                 'fit_intercept': [True, False]\n",
    "#             }\n",
    "#         },\n",
    "#         'lasso': {\n",
    "#             'model': Lasso(),\n",
    "#             'params': {\n",
    "#                 'alpha': [1, 2],\n",
    "#                 'selection': ['random', 'cyclic']\n",
    "#             }\n",
    "#         },\n",
    "#         'decision_tree': {\n",
    "#             'model': DecisionTreeRegressor(),\n",
    "#             'params': {\n",
    "#                 'criterion': ['mse', 'friedman_mse'],\n",
    "#                 'splitter': ['best', 'random']\n",
    "#             }\n",
    "#         },\n",
    "#         'random_forest': {\n",
    "#             'model': RandomForestRegressor(),\n",
    "#             'params': {\n",
    "#                 'n_estimators': [100, 200, 300]\n",
    "#             }\n",
    "#         }\n",
    "#     }\n",
    "    \n",
    "#     scores = []\n",
    "#     cv = ShuffleSplit(n_splits=5, test_size=0.2, random_state=0)\n",
    "    \n",
    "#     for algo_name, config in algos.items():\n",
    "#         gs = GridSearchCV(config['model'], config['params'], cv=cv, return_train_score=False)\n",
    "#         gs.fit(X, y)\n",
    "#         scores.append({\n",
    "#             'model': algo_name,\n",
    "#             'best_score': gs.best_score_,\n",
    "#             'best_params': gs.best_params_\n",
    "#         })\n",
    "        \n",
    "#     return pd.DataFrame(scores, columns=['model', 'best_score', 'best_params'])\n",
    "\n",
    "# find_best_model_using_gridsearchcv(X, y)\n",
    "\n"
   ]
  },
  {
   "cell_type": "code",
   "execution_count": 94,
   "metadata": {},
   "outputs": [],
   "source": [
    "# Predict the price of a house\n",
    "\n",
    "def predict_price(location, total_sqft, bath, bhk, balcony, area_type):\n",
    "    if location not in X.columns or area_type not in X.columns:\n",
    "        return \"Location or Area Type not found in the data\"\n",
    "    area_type_index = np.where(X.columns == area_type)[0][0] # Get the index of the area_type column. If the area_type is not in the columns, it will return -1\n",
    "    loc_index = np.where(X.columns == location)[0][0] # Get the index of the location column. If the location is not in the columns, it will return -1\n",
    "    \n",
    "    x = np.zeros(len(X.columns)) # Create an array of zeros with the length of the columns\n",
    "    x[0] = bhk\n",
    "    x[1] = total_sqft\n",
    "    x[2] = bath\n",
    "    x[3] = balcony\n",
    "    if loc_index >= 0:\n",
    "        x[loc_index] = 1\n",
    "    if area_type_index >= 0:\n",
    "        x[area_type_index] = 1\n",
    "    \n",
    "    return LinearRegression_model.predict([x])[0]"
   ]
  },
  {
   "cell_type": "code",
   "execution_count": 95,
   "metadata": {},
   "outputs": [],
   "source": [
    "pridicted_price = predict_price('location_Vidyaranyapura', 1000, 2, 2, 1, 'Plot  Area')\n"
   ]
  }
 ],
 "metadata": {
  "kernelspec": {
   "display_name": "base",
   "language": "python",
   "name": "python3"
  },
  "language_info": {
   "codemirror_mode": {
    "name": "ipython",
    "version": 3
   },
   "file_extension": ".py",
   "mimetype": "text/x-python",
   "name": "python",
   "nbconvert_exporter": "python",
   "pygments_lexer": "ipython3",
   "version": "3.11.7"
  }
 },
 "nbformat": 4,
 "nbformat_minor": 2
}
